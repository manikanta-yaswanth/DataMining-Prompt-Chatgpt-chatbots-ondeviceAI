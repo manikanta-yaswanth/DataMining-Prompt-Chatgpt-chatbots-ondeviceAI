{
 "cells": [
  {
   "cell_type": "markdown",
   "id": "e4a843c0",
   "metadata": {},
   "source": [
    "# ASSIGNEMENT 7_SyntheticData"
   ]
  },
  {
   "cell_type": "markdown",
   "id": "d0542246",
   "metadata": {},
   "source": [
    "## MATRIX MASTERS\n",
    "### Pavan Venkata Vijaya Ajith Varma Datla\n",
    "### Venkata Dharma Teja Konakanchi\n",
    "### Shyam Prasad Nalasani\n",
    "### Sai Chowdary Penikalapati\n",
    "### Manikanta Yashwanth\n",
    "### Sunil Porida"
   ]
  },
  {
   "cell_type": "markdown",
   "id": "1d5e53e4",
   "metadata": {},
   "source": [
    "## Let's start by importing the libraries we will need."
   ]
  },
  {
   "cell_type": "code",
   "execution_count": 10,
   "id": "1a71621c",
   "metadata": {},
   "outputs": [],
   "source": [
    "from sklearn.datasets import make_classification\n",
    "import pandas as pd"
   ]
  },
  {
   "cell_type": "markdown",
   "id": "88b2c15a",
   "metadata": {},
   "source": [
    "## Creating a Synthetic Dataset"
   ]
  },
  {
   "cell_type": "code",
   "execution_count": 11,
   "id": "4d1187c8-1350-4cdd-b362-19fe9cd2dc08",
   "metadata": {
    "tags": []
   },
   "outputs": [],
   "source": [
    "# Create a synthetic dataset\n",
    "X, y = make_classification(n_samples=1000, n_features=5, n_informative=3, n_redundant=2, n_classes=3, random_state=42)\n",
    "\n",
    "# Create a Pandas DataFrame\n",
    "data = pd.DataFrame(data=X, columns=['feature1', 'feature2', 'feature3', 'feature4', 'feature5'])\n",
    "data['target'] = y\n"
   ]
  },
  {
   "cell_type": "code",
   "execution_count": 12,
   "id": "43ff42f9-27f0-42cc-bf65-71dc38986789",
   "metadata": {
    "tags": []
   },
   "outputs": [
    {
     "data": {
      "text/html": [
       "<div>\n",
       "<style scoped>\n",
       "    .dataframe tbody tr th:only-of-type {\n",
       "        vertical-align: middle;\n",
       "    }\n",
       "\n",
       "    .dataframe tbody tr th {\n",
       "        vertical-align: top;\n",
       "    }\n",
       "\n",
       "    .dataframe thead th {\n",
       "        text-align: right;\n",
       "    }\n",
       "</style>\n",
       "<table border=\"1\" class=\"dataframe\">\n",
       "  <thead>\n",
       "    <tr style=\"text-align: right;\">\n",
       "      <th></th>\n",
       "      <th>feature1</th>\n",
       "      <th>feature2</th>\n",
       "      <th>feature3</th>\n",
       "      <th>feature4</th>\n",
       "      <th>feature5</th>\n",
       "      <th>target</th>\n",
       "    </tr>\n",
       "  </thead>\n",
       "  <tbody>\n",
       "    <tr>\n",
       "      <th>0</th>\n",
       "      <td>1.555730</td>\n",
       "      <td>0.628147</td>\n",
       "      <td>-0.567278</td>\n",
       "      <td>-2.548786</td>\n",
       "      <td>-1.575909</td>\n",
       "      <td>2</td>\n",
       "    </tr>\n",
       "    <tr>\n",
       "      <th>1</th>\n",
       "      <td>-3.194052</td>\n",
       "      <td>1.395636</td>\n",
       "      <td>3.033943</td>\n",
       "      <td>-0.280255</td>\n",
       "      <td>-2.172309</td>\n",
       "      <td>1</td>\n",
       "    </tr>\n",
       "    <tr>\n",
       "      <th>2</th>\n",
       "      <td>-0.329064</td>\n",
       "      <td>-0.461760</td>\n",
       "      <td>-1.183120</td>\n",
       "      <td>1.436410</td>\n",
       "      <td>-1.228790</td>\n",
       "      <td>0</td>\n",
       "    </tr>\n",
       "    <tr>\n",
       "      <th>3</th>\n",
       "      <td>-0.706467</td>\n",
       "      <td>0.648464</td>\n",
       "      <td>0.842007</td>\n",
       "      <td>-0.746024</td>\n",
       "      <td>-1.300526</td>\n",
       "      <td>1</td>\n",
       "    </tr>\n",
       "    <tr>\n",
       "      <th>4</th>\n",
       "      <td>0.543973</td>\n",
       "      <td>-0.595228</td>\n",
       "      <td>-1.202407</td>\n",
       "      <td>0.872089</td>\n",
       "      <td>0.185406</td>\n",
       "      <td>0</td>\n",
       "    </tr>\n",
       "    <tr>\n",
       "      <th>...</th>\n",
       "      <td>...</td>\n",
       "      <td>...</td>\n",
       "      <td>...</td>\n",
       "      <td>...</td>\n",
       "      <td>...</td>\n",
       "      <td>...</td>\n",
       "    </tr>\n",
       "    <tr>\n",
       "      <th>995</th>\n",
       "      <td>1.988782</td>\n",
       "      <td>-0.486354</td>\n",
       "      <td>-1.976167</td>\n",
       "      <td>-0.538039</td>\n",
       "      <td>-0.149938</td>\n",
       "      <td>2</td>\n",
       "    </tr>\n",
       "    <tr>\n",
       "      <th>996</th>\n",
       "      <td>-1.312794</td>\n",
       "      <td>0.714122</td>\n",
       "      <td>1.131945</td>\n",
       "      <td>-0.359647</td>\n",
       "      <td>-1.616572</td>\n",
       "      <td>1</td>\n",
       "    </tr>\n",
       "    <tr>\n",
       "      <th>997</th>\n",
       "      <td>1.207255</td>\n",
       "      <td>0.396648</td>\n",
       "      <td>0.093145</td>\n",
       "      <td>-1.914773</td>\n",
       "      <td>0.195360</td>\n",
       "      <td>1</td>\n",
       "    </tr>\n",
       "    <tr>\n",
       "      <th>998</th>\n",
       "      <td>1.018303</td>\n",
       "      <td>-0.730303</td>\n",
       "      <td>-1.842049</td>\n",
       "      <td>0.814984</td>\n",
       "      <td>-0.133006</td>\n",
       "      <td>1</td>\n",
       "    </tr>\n",
       "    <tr>\n",
       "      <th>999</th>\n",
       "      <td>-0.376029</td>\n",
       "      <td>-0.627767</td>\n",
       "      <td>-0.777573</td>\n",
       "      <td>1.713800</td>\n",
       "      <td>0.131273</td>\n",
       "      <td>0</td>\n",
       "    </tr>\n",
       "  </tbody>\n",
       "</table>\n",
       "<p>1000 rows × 6 columns</p>\n",
       "</div>"
      ],
      "text/plain": [
       "     feature1  feature2  feature3  feature4  feature5  target\n",
       "0    1.555730  0.628147 -0.567278 -2.548786 -1.575909       2\n",
       "1   -3.194052  1.395636  3.033943 -0.280255 -2.172309       1\n",
       "2   -0.329064 -0.461760 -1.183120  1.436410 -1.228790       0\n",
       "3   -0.706467  0.648464  0.842007 -0.746024 -1.300526       1\n",
       "4    0.543973 -0.595228 -1.202407  0.872089  0.185406       0\n",
       "..        ...       ...       ...       ...       ...     ...\n",
       "995  1.988782 -0.486354 -1.976167 -0.538039 -0.149938       2\n",
       "996 -1.312794  0.714122  1.131945 -0.359647 -1.616572       1\n",
       "997  1.207255  0.396648  0.093145 -1.914773  0.195360       1\n",
       "998  1.018303 -0.730303 -1.842049  0.814984 -0.133006       1\n",
       "999 -0.376029 -0.627767 -0.777573  1.713800  0.131273       0\n",
       "\n",
       "[1000 rows x 6 columns]"
      ]
     },
     "execution_count": 12,
     "metadata": {},
     "output_type": "execute_result"
    }
   ],
   "source": [
    "data"
   ]
  },
  {
   "cell_type": "markdown",
   "id": "7b5d1330",
   "metadata": {},
   "source": [
    "## Saving Synthetic data to csv file"
   ]
  },
  {
   "cell_type": "code",
   "execution_count": 13,
   "id": "f6ae5b06",
   "metadata": {},
   "outputs": [],
   "source": [
    "syntheticDataFilePath = r'C:\\Users\\91970\\Downloads\\DM\\Week9\\Assign\\synthetic_classification_data.csv'\n",
    "data.to_csv(syntheticDataFilePath, index=False)"
   ]
  },
  {
   "cell_type": "markdown",
   "id": "21ff68ed",
   "metadata": {},
   "source": [
    "#### Next we will use SKLearn pipelines to  process this synthetic data and fit to Neural Network, XGBoost, and RandomForest in the \"Assignment7_Model_fitting\" file."
   ]
  }
 ],
 "metadata": {
  "kernelspec": {
   "display_name": "Python 3 (ipykernel)",
   "language": "python",
   "name": "python3"
  },
  "language_info": {
   "codemirror_mode": {
    "name": "ipython",
    "version": 3
   },
   "file_extension": ".py",
   "mimetype": "text/x-python",
   "name": "python",
   "nbconvert_exporter": "python",
   "pygments_lexer": "ipython3",
   "version": "3.11.5"
  }
 },
 "nbformat": 4,
 "nbformat_minor": 5
}
