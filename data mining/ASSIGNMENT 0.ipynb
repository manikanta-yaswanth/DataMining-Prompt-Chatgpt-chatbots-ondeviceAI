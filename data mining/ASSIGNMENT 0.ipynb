{
 "cells": [
  {
   "cell_type": "markdown",
   "id": "baa60248",
   "metadata": {},
   "source": [
    "# MANI KANTA YASWANTH \n",
    "\n",
    "# THIS IS MY FIRST ASSIGNMENT\n"
   ]
  },
  {
   "cell_type": "code",
   "execution_count": 2,
   "id": "98206904",
   "metadata": {},
   "outputs": [
    {
     "name": "stdout",
     "output_type": "stream",
     "text": [
      "Mani kanta yaswanth\n"
     ]
    }
   ],
   "source": [
    "print('Mani kanta yaswanth')"
   ]
  }
 ],
 "metadata": {
  "kernelspec": {
   "display_name": "Python 3 (ipykernel)",
   "language": "python",
   "name": "python3"
  },
  "language_info": {
   "codemirror_mode": {
    "name": "ipython",
    "version": 3
   },
   "file_extension": ".py",
   "mimetype": "text/x-python",
   "name": "python",
   "nbconvert_exporter": "python",
   "pygments_lexer": "ipython3",
   "version": "3.11.4"
  }
 },
 "nbformat": 4,
 "nbformat_minor": 5
}
