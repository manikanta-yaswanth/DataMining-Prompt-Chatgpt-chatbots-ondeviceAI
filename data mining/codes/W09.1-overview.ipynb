{
 "cells": [
  {
   "cell_type": "markdown",
   "metadata": {},
   "source": [
    "# Week 09 - ISM6136 Data Mining\n",
    "\n",
    "Objectives:\n",
    "    Data Preparation: Pipelinesin SKLearn\n",
    "    Model Evaluation: Lift and Gain Charts\n",
    "    Models: Neural Networks and SKLearn's Multi-layer Perceptron (MLP) \n",
    "\n",
    "> NOTE: The notebooks in this section are meant to be a supplement to the in-class lecture. When using this in your own analysis, you may need to modify the code to fit your specific needs and you will need to add more markdown cells to explain your process and findings. If you do not attend the lecture, you miss important information.\n"
   ]
  }
 ],
 "metadata": {
  "language_info": {
   "name": "python"
  }
 },
 "nbformat": 4,
 "nbformat_minor": 2
}
