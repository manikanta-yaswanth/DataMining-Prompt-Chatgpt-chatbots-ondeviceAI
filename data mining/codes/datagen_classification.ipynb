{
 "cells": [
  {
   "cell_type": "code",
   "execution_count": 1,
   "metadata": {},
   "outputs": [],
   "source": [
    "import pandas as pd\n",
    "from random import randint\n",
    "import numpy as np\n",
    "import random\n",
    "\n",
    "from sklearn.datasets import make_classification\n",
    "\n",
    "np.random.seed(42)\n"
   ]
  },
  {
   "cell_type": "code",
   "execution_count": 2,
   "metadata": {},
   "outputs": [
    {
     "name": "stdout",
     "output_type": "stream",
     "text": [
      "(100, 5)\n"
     ]
    },
    {
     "data": {
      "text/html": [
       "<div>\n",
       "<style scoped>\n",
       "    .dataframe tbody tr th:only-of-type {\n",
       "        vertical-align: middle;\n",
       "    }\n",
       "\n",
       "    .dataframe tbody tr th {\n",
       "        vertical-align: top;\n",
       "    }\n",
       "\n",
       "    .dataframe thead th {\n",
       "        text-align: right;\n",
       "    }\n",
       "</style>\n",
       "<table border=\"1\" class=\"dataframe\">\n",
       "  <thead>\n",
       "    <tr style=\"text-align: right;\">\n",
       "      <th></th>\n",
       "      <th>feature1</th>\n",
       "      <th>feature2</th>\n",
       "      <th>feature3</th>\n",
       "      <th>feature4</th>\n",
       "      <th>target</th>\n",
       "    </tr>\n",
       "  </thead>\n",
       "  <tbody>\n",
       "    <tr>\n",
       "      <th>0</th>\n",
       "      <td>-1.053839</td>\n",
       "      <td>-1.027544</td>\n",
       "      <td>-0.329294</td>\n",
       "      <td>0.826007</td>\n",
       "      <td>1</td>\n",
       "    </tr>\n",
       "    <tr>\n",
       "      <th>1</th>\n",
       "      <td>1.569317</td>\n",
       "      <td>1.306542</td>\n",
       "      <td>-0.239385</td>\n",
       "      <td>-0.331376</td>\n",
       "      <td>0</td>\n",
       "    </tr>\n",
       "    <tr>\n",
       "      <th>2</th>\n",
       "      <td>-0.358856</td>\n",
       "      <td>-0.691021</td>\n",
       "      <td>-1.225329</td>\n",
       "      <td>1.652145</td>\n",
       "      <td>1</td>\n",
       "    </tr>\n",
       "    <tr>\n",
       "      <th>3</th>\n",
       "      <td>-0.136856</td>\n",
       "      <td>0.460938</td>\n",
       "      <td>1.896911</td>\n",
       "      <td>-2.281386</td>\n",
       "      <td>0</td>\n",
       "    </tr>\n",
       "    <tr>\n",
       "      <th>4</th>\n",
       "      <td>-0.048629</td>\n",
       "      <td>0.502301</td>\n",
       "      <td>1.778730</td>\n",
       "      <td>-2.171053</td>\n",
       "      <td>0</td>\n",
       "    </tr>\n",
       "  </tbody>\n",
       "</table>\n",
       "</div>"
      ],
      "text/plain": [
       "   feature1  feature2  feature3  feature4  target\n",
       "0 -1.053839 -1.027544 -0.329294  0.826007       1\n",
       "1  1.569317  1.306542 -0.239385 -0.331376       0\n",
       "2 -0.358856 -0.691021 -1.225329  1.652145       1\n",
       "3 -0.136856  0.460938  1.896911 -2.281386       0\n",
       "4 -0.048629  0.502301  1.778730 -2.171053       0"
      ]
     },
     "execution_count": 2,
     "metadata": {},
     "output_type": "execute_result"
    }
   ],
   "source": [
    "n_features = 4\n",
    "X, y = make_classification(\n",
    "    n_samples=100,  # number of samples\n",
    "    n_features=n_features,   # number of features\n",
    "    n_classes=2,    # number of classes \n",
    ")\n",
    "\n",
    "columns = [f\"feature{i+1}\" for i in range(n_features)]\n",
    "\n",
    "df = pd.concat([pd.DataFrame(X, columns=columns), \n",
    "                pd.Series(y, name='target')], axis=1)\n",
    "\n",
    "print(df.shape)\n",
    "df.head()"
   ]
  },
  {
   "cell_type": "code",
   "execution_count": 3,
   "metadata": {},
   "outputs": [],
   "source": [
    "df['feature1'] = df['feature1'].apply(lambda x: round(x*100+500, 2)) # std 100, mean 500\n",
    "df['feature2'] = df['feature2'].apply(lambda x: 'red' if x >0.5 else ('blue' if x < -0.5 else 'green'))\n",
    "df['feature3'] = df['feature3'].apply(lambda x: round(x*-50-20, 3)) # std 50, mean -20\n",
    "df['feature4'] = df['feature4'].apply(lambda x: round(x*10+5, 0)) # std 10, mean 5\n",
    "df['target'] = df['target'].apply(lambda x: 'sale' if x==1 else 'no-sale')\n",
    "df['target'] = df['target'].apply(lambda x: 'sale' if randint(0,5)==0  else x) # this will add a bit more 'noise' to the data"
   ]
  },
  {
   "cell_type": "code",
   "execution_count": 4,
   "metadata": {},
   "outputs": [],
   "source": [
    "# randomly misspell from on the instances of red with Red\n",
    "df['feature2'] = df['feature2'].apply(lambda x: 'Red' if (x=='red' and randint(0,1) == 0) else x)\n",
    "\n",
    "# Randomly replace 10% of the values in each column with NaN\n",
    "for col in df.columns:\n",
    "    df.loc[df.sample(frac=0.1).index, col] = np.nan\n"
   ]
  },
  {
   "cell_type": "code",
   "execution_count": 5,
   "metadata": {},
   "outputs": [],
   "source": [
    "df.to_csv('./data/data-classification.csv', index=False)"
   ]
  }
 ],
 "metadata": {
  "kernelspec": {
   "display_name": "dm",
   "language": "python",
   "name": "python3"
  },
  "language_info": {
   "codemirror_mode": {
    "name": "ipython",
    "version": 3
   },
   "file_extension": ".py",
   "mimetype": "text/x-python",
   "name": "python",
   "nbconvert_exporter": "python",
   "pygments_lexer": "ipython3",
   "version": "3.11.5"
  },
  "orig_nbformat": 4
 },
 "nbformat": 4,
 "nbformat_minor": 2
}
