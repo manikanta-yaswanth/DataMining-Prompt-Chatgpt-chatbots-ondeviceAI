{
 "cells": [
  {
   "cell_type": "code",
   "execution_count": 1,
   "metadata": {},
   "outputs": [],
   "source": [
    "import pandas as pd\n",
    "import numpy as np\n",
    "import random\n",
    "\n",
    "from sklearn.datasets import make_regression\n",
    "\n",
    "np.random.seed(42)\n",
    "random.seed(42)"
   ]
  },
  {
   "cell_type": "code",
   "execution_count": 2,
   "metadata": {},
   "outputs": [
    {
     "data": {
      "text/html": [
       "<div>\n",
       "<style scoped>\n",
       "    .dataframe tbody tr th:only-of-type {\n",
       "        vertical-align: middle;\n",
       "    }\n",
       "\n",
       "    .dataframe tbody tr th {\n",
       "        vertical-align: top;\n",
       "    }\n",
       "\n",
       "    .dataframe thead th {\n",
       "        text-align: right;\n",
       "    }\n",
       "</style>\n",
       "<table border=\"1\" class=\"dataframe\">\n",
       "  <thead>\n",
       "    <tr style=\"text-align: right;\">\n",
       "      <th></th>\n",
       "      <th>feature1</th>\n",
       "      <th>feature2</th>\n",
       "      <th>feature3</th>\n",
       "      <th>feature4</th>\n",
       "      <th>target</th>\n",
       "    </tr>\n",
       "  </thead>\n",
       "  <tbody>\n",
       "    <tr>\n",
       "      <th>0</th>\n",
       "      <td>-1.448084</td>\n",
       "      <td>-1.407464</td>\n",
       "      <td>0.232050</td>\n",
       "      <td>-0.471038</td>\n",
       "      <td>-143.065368</td>\n",
       "    </tr>\n",
       "    <tr>\n",
       "      <th>1</th>\n",
       "      <td>-1.918771</td>\n",
       "      <td>-0.026514</td>\n",
       "      <td>-0.074446</td>\n",
       "      <td>0.257550</td>\n",
       "      <td>-4.461594</td>\n",
       "    </tr>\n",
       "    <tr>\n",
       "      <th>2</th>\n",
       "      <td>0.005113</td>\n",
       "      <td>-0.234587</td>\n",
       "      <td>0.261055</td>\n",
       "      <td>0.296120</td>\n",
       "      <td>-0.835365</td>\n",
       "    </tr>\n",
       "    <tr>\n",
       "      <th>3</th>\n",
       "      <td>-0.485364</td>\n",
       "      <td>0.081874</td>\n",
       "      <td>-0.236819</td>\n",
       "      <td>-0.772825</td>\n",
       "      <td>-34.189506</td>\n",
       "    </tr>\n",
       "    <tr>\n",
       "      <th>4</th>\n",
       "      <td>0.024510</td>\n",
       "      <td>0.497998</td>\n",
       "      <td>-0.773010</td>\n",
       "      <td>0.097676</td>\n",
       "      <td>26.118365</td>\n",
       "    </tr>\n",
       "  </tbody>\n",
       "</table>\n",
       "</div>"
      ],
      "text/plain": [
       "   feature1  feature2  feature3  feature4      target\n",
       "0 -1.448084 -1.407464  0.232050 -0.471038 -143.065368\n",
       "1 -1.918771 -0.026514 -0.074446  0.257550   -4.461594\n",
       "2  0.005113 -0.234587  0.261055  0.296120   -0.835365\n",
       "3 -0.485364  0.081874 -0.236819 -0.772825  -34.189506\n",
       "4  0.024510  0.497998 -0.773010  0.097676   26.118365"
      ]
     },
     "execution_count": 2,
     "metadata": {},
     "output_type": "execute_result"
    }
   ],
   "source": [
    "n_features = 4\n",
    "# create features and targets\n",
    "X, y = make_regression(\n",
    "    n_samples=100,\n",
    "    n_features=n_features,\n",
    "    n_informative=n_features,\n",
    "    n_targets=1\n",
    ")\n",
    "\n",
    "df = pd.DataFrame(X, columns=[f\"feature{i+1}\" for i in range(n_features)])\n",
    "df[\"target\"] = y\n",
    "\n",
    "df.head()"
   ]
  },
  {
   "cell_type": "code",
   "execution_count": 3,
   "metadata": {},
   "outputs": [
    {
     "data": {
      "text/html": [
       "<div>\n",
       "<style scoped>\n",
       "    .dataframe tbody tr th:only-of-type {\n",
       "        vertical-align: middle;\n",
       "    }\n",
       "\n",
       "    .dataframe tbody tr th {\n",
       "        vertical-align: top;\n",
       "    }\n",
       "\n",
       "    .dataframe thead th {\n",
       "        text-align: right;\n",
       "    }\n",
       "</style>\n",
       "<table border=\"1\" class=\"dataframe\">\n",
       "  <thead>\n",
       "    <tr style=\"text-align: right;\">\n",
       "      <th></th>\n",
       "      <th>feature1</th>\n",
       "      <th>feature2</th>\n",
       "      <th>feature3</th>\n",
       "      <th>feature4</th>\n",
       "      <th>target</th>\n",
       "    </tr>\n",
       "  </thead>\n",
       "  <tbody>\n",
       "    <tr>\n",
       "      <th>0</th>\n",
       "      <td>355.19</td>\n",
       "      <td>blue</td>\n",
       "      <td>-31.602</td>\n",
       "      <td>0.0</td>\n",
       "      <td>-143.065368</td>\n",
       "    </tr>\n",
       "    <tr>\n",
       "      <th>1</th>\n",
       "      <td>308.12</td>\n",
       "      <td>green</td>\n",
       "      <td>-16.278</td>\n",
       "      <td>8.0</td>\n",
       "      <td>-4.461594</td>\n",
       "    </tr>\n",
       "    <tr>\n",
       "      <th>2</th>\n",
       "      <td>500.51</td>\n",
       "      <td>green</td>\n",
       "      <td>-33.053</td>\n",
       "      <td>8.0</td>\n",
       "      <td>-0.835365</td>\n",
       "    </tr>\n",
       "    <tr>\n",
       "      <th>3</th>\n",
       "      <td>451.46</td>\n",
       "      <td>green</td>\n",
       "      <td>-8.159</td>\n",
       "      <td>-3.0</td>\n",
       "      <td>-34.189506</td>\n",
       "    </tr>\n",
       "    <tr>\n",
       "      <th>4</th>\n",
       "      <td>502.45</td>\n",
       "      <td>green</td>\n",
       "      <td>18.650</td>\n",
       "      <td>6.0</td>\n",
       "      <td>26.118365</td>\n",
       "    </tr>\n",
       "  </tbody>\n",
       "</table>\n",
       "</div>"
      ],
      "text/plain": [
       "   feature1 feature2  feature3  feature4      target\n",
       "0    355.19     blue   -31.602       0.0 -143.065368\n",
       "1    308.12    green   -16.278       8.0   -4.461594\n",
       "2    500.51    green   -33.053       8.0   -0.835365\n",
       "3    451.46    green    -8.159      -3.0  -34.189506\n",
       "4    502.45    green    18.650       6.0   26.118365"
      ]
     },
     "execution_count": 3,
     "metadata": {},
     "output_type": "execute_result"
    }
   ],
   "source": [
    "df['feature1'] = df['feature1'].apply(lambda x: round(x*100+500, 2)) # std 100, mean 500\n",
    "df['feature2'] = df['feature2'].apply(lambda x: 'red' if x >0.5 else ('blue' if x < -0.5 else 'green'))\n",
    "df['feature3'] = df['feature3'].apply(lambda x: round(x*-50-20, 3)) # std 50, mean -20\n",
    "df['feature4'] = df['feature4'].apply(lambda x: round(x*10+5, 0)) # std 10, mean 5\n",
    "\n",
    "df.head()"
   ]
  },
  {
   "cell_type": "markdown",
   "metadata": {},
   "source": [
    "Add a misspelling of red with Red."
   ]
  },
  {
   "cell_type": "code",
   "execution_count": 4,
   "metadata": {},
   "outputs": [
    {
     "data": {
      "text/plain": [
       "Index(['feature1', 'feature2', 'feature3', 'feature4', 'target'], dtype='object')"
      ]
     },
     "execution_count": 4,
     "metadata": {},
     "output_type": "execute_result"
    }
   ],
   "source": [
    "df.columns"
   ]
  },
  {
   "cell_type": "code",
   "execution_count": 5,
   "metadata": {},
   "outputs": [
    {
     "data": {
      "text/plain": [
       "0    -143.065368\n",
       "1      -4.461594\n",
       "2      -0.835365\n",
       "3     -34.189506\n",
       "4      26.118365\n",
       "         ...    \n",
       "95    -47.525972\n",
       "96   -160.666558\n",
       "97    -16.351977\n",
       "98     82.955898\n",
       "99    196.616246\n",
       "Name: target, Length: 100, dtype: float64"
      ]
     },
     "execution_count": 5,
     "metadata": {},
     "output_type": "execute_result"
    }
   ],
   "source": [
    "df['target']"
   ]
  },
  {
   "cell_type": "code",
   "execution_count": 6,
   "metadata": {},
   "outputs": [],
   "source": [
    "# randomly misspell from on the instances of red with Red\n",
    "df['feature2'] = df['feature2'].apply(lambda x: 'Red' if (x=='red' and random.randint(0,1) == 0) else x)\n",
    "\n",
    "# Randomly replace 10% of the values in each column with NaN\n",
    "for col in df.columns:\n",
    "    df.loc[df.sample(frac=0.1).index, col] = np.nan"
   ]
  },
  {
   "cell_type": "code",
   "execution_count": 7,
   "metadata": {},
   "outputs": [
    {
     "data": {
      "text/html": [
       "<div>\n",
       "<style scoped>\n",
       "    .dataframe tbody tr th:only-of-type {\n",
       "        vertical-align: middle;\n",
       "    }\n",
       "\n",
       "    .dataframe tbody tr th {\n",
       "        vertical-align: top;\n",
       "    }\n",
       "\n",
       "    .dataframe thead th {\n",
       "        text-align: right;\n",
       "    }\n",
       "</style>\n",
       "<table border=\"1\" class=\"dataframe\">\n",
       "  <thead>\n",
       "    <tr style=\"text-align: right;\">\n",
       "      <th></th>\n",
       "      <th>feature1</th>\n",
       "      <th>feature3</th>\n",
       "      <th>feature4</th>\n",
       "      <th>target</th>\n",
       "    </tr>\n",
       "  </thead>\n",
       "  <tbody>\n",
       "    <tr>\n",
       "      <th>count</th>\n",
       "      <td>90.00000</td>\n",
       "      <td>90.000000</td>\n",
       "      <td>90.000000</td>\n",
       "      <td>90.000000</td>\n",
       "    </tr>\n",
       "    <tr>\n",
       "      <th>mean</th>\n",
       "      <td>501.52700</td>\n",
       "      <td>-22.472467</td>\n",
       "      <td>5.122222</td>\n",
       "      <td>1.764505</td>\n",
       "    </tr>\n",
       "    <tr>\n",
       "      <th>std</th>\n",
       "      <td>106.89865</td>\n",
       "      <td>48.426015</td>\n",
       "      <td>8.902503</td>\n",
       "      <td>96.056905</td>\n",
       "    </tr>\n",
       "    <tr>\n",
       "      <th>min</th>\n",
       "      <td>175.87000</td>\n",
       "      <td>-212.637000</td>\n",
       "      <td>-15.000000</td>\n",
       "      <td>-175.916416</td>\n",
       "    </tr>\n",
       "    <tr>\n",
       "      <th>25%</th>\n",
       "      <td>435.32250</td>\n",
       "      <td>-47.811250</td>\n",
       "      <td>-2.000000</td>\n",
       "      <td>-69.474014</td>\n",
       "    </tr>\n",
       "    <tr>\n",
       "      <th>50%</th>\n",
       "      <td>506.59000</td>\n",
       "      <td>-18.768000</td>\n",
       "      <td>5.000000</td>\n",
       "      <td>4.978990</td>\n",
       "    </tr>\n",
       "    <tr>\n",
       "      <th>75%</th>\n",
       "      <td>578.12500</td>\n",
       "      <td>8.636000</td>\n",
       "      <td>10.750000</td>\n",
       "      <td>70.712312</td>\n",
       "    </tr>\n",
       "    <tr>\n",
       "      <th>max</th>\n",
       "      <td>718.98000</td>\n",
       "      <td>77.984000</td>\n",
       "      <td>28.000000</td>\n",
       "      <td>274.007092</td>\n",
       "    </tr>\n",
       "  </tbody>\n",
       "</table>\n",
       "</div>"
      ],
      "text/plain": [
       "        feature1    feature3   feature4      target\n",
       "count   90.00000   90.000000  90.000000   90.000000\n",
       "mean   501.52700  -22.472467   5.122222    1.764505\n",
       "std    106.89865   48.426015   8.902503   96.056905\n",
       "min    175.87000 -212.637000 -15.000000 -175.916416\n",
       "25%    435.32250  -47.811250  -2.000000  -69.474014\n",
       "50%    506.59000  -18.768000   5.000000    4.978990\n",
       "75%    578.12500    8.636000  10.750000   70.712312\n",
       "max    718.98000   77.984000  28.000000  274.007092"
      ]
     },
     "execution_count": 7,
     "metadata": {},
     "output_type": "execute_result"
    }
   ],
   "source": [
    "df.describe()"
   ]
  },
  {
   "cell_type": "code",
   "execution_count": 8,
   "metadata": {},
   "outputs": [],
   "source": [
    "df.to_csv('./data/data-regression.csv', index=False)"
   ]
  }
 ],
 "metadata": {
  "kernelspec": {
   "display_name": "dm",
   "language": "python",
   "name": "python3"
  },
  "language_info": {
   "codemirror_mode": {
    "name": "ipython",
    "version": 3
   },
   "file_extension": ".py",
   "mimetype": "text/x-python",
   "name": "python",
   "nbconvert_exporter": "python",
   "pygments_lexer": "ipython3",
   "version": "3.11.5"
  },
  "orig_nbformat": 4
 },
 "nbformat": 4,
 "nbformat_minor": 2
}
