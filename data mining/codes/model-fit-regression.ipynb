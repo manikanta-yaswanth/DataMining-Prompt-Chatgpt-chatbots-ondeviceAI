{
 "cells": [
  {
   "cell_type": "code",
   "execution_count": 1,
   "metadata": {},
   "outputs": [],
   "source": [
    "import pandas as pd\n",
    "import numpy as np\n",
    "from sklearn.model_selection import train_test_split\n",
    "from sklearn.linear_model import LinearRegression\n",
    "from sklearn.preprocessing import OneHotEncoder\n",
    "from sklearn.impute import SimpleImputer\n",
    "\n",
    "np.random.seed(42)"
   ]
  },
  {
   "cell_type": "code",
   "execution_count": 2,
   "metadata": {},
   "outputs": [],
   "source": [
    "df = pd.read_csv('./data/data-regression.csv', index_col=False)"
   ]
  },
  {
   "cell_type": "code",
   "execution_count": 3,
   "metadata": {},
   "outputs": [
    {
     "data": {
      "text/html": [
       "<div>\n",
       "<style scoped>\n",
       "    .dataframe tbody tr th:only-of-type {\n",
       "        vertical-align: middle;\n",
       "    }\n",
       "\n",
       "    .dataframe tbody tr th {\n",
       "        vertical-align: top;\n",
       "    }\n",
       "\n",
       "    .dataframe thead th {\n",
       "        text-align: right;\n",
       "    }\n",
       "</style>\n",
       "<table border=\"1\" class=\"dataframe\">\n",
       "  <thead>\n",
       "    <tr style=\"text-align: right;\">\n",
       "      <th></th>\n",
       "      <th>feature1</th>\n",
       "      <th>feature2</th>\n",
       "      <th>feature3</th>\n",
       "      <th>feature4</th>\n",
       "      <th>target</th>\n",
       "    </tr>\n",
       "  </thead>\n",
       "  <tbody>\n",
       "    <tr>\n",
       "      <th>0</th>\n",
       "      <td>355.19</td>\n",
       "      <td>blue</td>\n",
       "      <td>NaN</td>\n",
       "      <td>0.0</td>\n",
       "      <td>-143.065368</td>\n",
       "    </tr>\n",
       "    <tr>\n",
       "      <th>1</th>\n",
       "      <td>308.12</td>\n",
       "      <td>green</td>\n",
       "      <td>-16.278</td>\n",
       "      <td>8.0</td>\n",
       "      <td>-4.461594</td>\n",
       "    </tr>\n",
       "    <tr>\n",
       "      <th>2</th>\n",
       "      <td>500.51</td>\n",
       "      <td>green</td>\n",
       "      <td>NaN</td>\n",
       "      <td>8.0</td>\n",
       "      <td>-0.835365</td>\n",
       "    </tr>\n",
       "    <tr>\n",
       "      <th>3</th>\n",
       "      <td>451.46</td>\n",
       "      <td>green</td>\n",
       "      <td>-8.159</td>\n",
       "      <td>NaN</td>\n",
       "      <td>-34.189506</td>\n",
       "    </tr>\n",
       "    <tr>\n",
       "      <th>4</th>\n",
       "      <td>502.45</td>\n",
       "      <td>green</td>\n",
       "      <td>18.650</td>\n",
       "      <td>NaN</td>\n",
       "      <td>26.118365</td>\n",
       "    </tr>\n",
       "    <tr>\n",
       "      <th>5</th>\n",
       "      <td>597.51</td>\n",
       "      <td>green</td>\n",
       "      <td>13.858</td>\n",
       "      <td>6.0</td>\n",
       "      <td>NaN</td>\n",
       "    </tr>\n",
       "    <tr>\n",
       "      <th>6</th>\n",
       "      <td>238.03</td>\n",
       "      <td>NaN</td>\n",
       "      <td>-98.232</td>\n",
       "      <td>5.0</td>\n",
       "      <td>97.595136</td>\n",
       "    </tr>\n",
       "    <tr>\n",
       "      <th>7</th>\n",
       "      <td>488.55</td>\n",
       "      <td>Red</td>\n",
       "      <td>-87.694</td>\n",
       "      <td>-12.0</td>\n",
       "      <td>72.342689</td>\n",
       "    </tr>\n",
       "    <tr>\n",
       "      <th>8</th>\n",
       "      <td>439.83</td>\n",
       "      <td>red</td>\n",
       "      <td>NaN</td>\n",
       "      <td>-1.0</td>\n",
       "      <td>123.887711</td>\n",
       "    </tr>\n",
       "    <tr>\n",
       "      <th>9</th>\n",
       "      <td>591.54</td>\n",
       "      <td>green</td>\n",
       "      <td>5.088</td>\n",
       "      <td>NaN</td>\n",
       "      <td>-13.667815</td>\n",
       "    </tr>\n",
       "  </tbody>\n",
       "</table>\n",
       "</div>"
      ],
      "text/plain": [
       "   feature1 feature2  feature3  feature4      target\n",
       "0    355.19     blue       NaN       0.0 -143.065368\n",
       "1    308.12    green   -16.278       8.0   -4.461594\n",
       "2    500.51    green       NaN       8.0   -0.835365\n",
       "3    451.46    green    -8.159       NaN  -34.189506\n",
       "4    502.45    green    18.650       NaN   26.118365\n",
       "5    597.51    green    13.858       6.0         NaN\n",
       "6    238.03      NaN   -98.232       5.0   97.595136\n",
       "7    488.55      Red   -87.694     -12.0   72.342689\n",
       "8    439.83      red       NaN      -1.0  123.887711\n",
       "9    591.54    green     5.088       NaN  -13.667815"
      ]
     },
     "execution_count": 3,
     "metadata": {},
     "output_type": "execute_result"
    }
   ],
   "source": [
    "df.head(10)"
   ]
  },
  {
   "cell_type": "markdown",
   "metadata": {},
   "source": [
    "## Addressing any NaN values in the dataset"
   ]
  },
  {
   "cell_type": "code",
   "execution_count": 4,
   "metadata": {},
   "outputs": [
    {
     "data": {
      "text/plain": [
       "feature1    10\n",
       "feature2    10\n",
       "feature3    10\n",
       "feature4    10\n",
       "target      10\n",
       "dtype: int64"
      ]
     },
     "execution_count": 4,
     "metadata": {},
     "output_type": "execute_result"
    }
   ],
   "source": [
    "df.isna().sum()"
   ]
  },
  {
   "cell_type": "markdown",
   "metadata": {},
   "source": [
    "Observations with missing Target values should be dropped from the dataset."
   ]
  },
  {
   "cell_type": "code",
   "execution_count": 5,
   "metadata": {},
   "outputs": [],
   "source": [
    "df = df.dropna(subset=['target'])"
   ]
  },
  {
   "cell_type": "code",
   "execution_count": 6,
   "metadata": {},
   "outputs": [
    {
     "data": {
      "text/plain": [
       "feature1     8\n",
       "feature2    10\n",
       "feature3     9\n",
       "feature4     8\n",
       "target       0\n",
       "dtype: int64"
      ]
     },
     "execution_count": 6,
     "metadata": {},
     "output_type": "execute_result"
    }
   ],
   "source": [
    "df.isna().sum()"
   ]
  },
  {
   "cell_type": "markdown",
   "metadata": {},
   "source": [
    "If the number of missing values in an observation is high (relative to the number of features), then remove that observation from the dataset."
   ]
  },
  {
   "cell_type": "code",
   "execution_count": 7,
   "metadata": {},
   "outputs": [
    {
     "data": {
      "text/plain": [
       "(90, 5)"
      ]
     },
     "execution_count": 7,
     "metadata": {},
     "output_type": "execute_result"
    }
   ],
   "source": [
    "df.shape"
   ]
  },
  {
   "cell_type": "code",
   "execution_count": 8,
   "metadata": {},
   "outputs": [],
   "source": [
    "df = df.dropna(axis=1, thresh=0.50*(df.shape[0])) # Drop any column with more than 50% missing values"
   ]
  },
  {
   "cell_type": "markdown",
   "metadata": {},
   "source": [
    "Any remaining missing values are filled with the mean (or median) of the column."
   ]
  },
  {
   "cell_type": "code",
   "execution_count": 9,
   "metadata": {},
   "outputs": [
    {
     "data": {
      "text/plain": [
       "(90, 5)"
      ]
     },
     "execution_count": 9,
     "metadata": {},
     "output_type": "execute_result"
    }
   ],
   "source": [
    "df.shape"
   ]
  },
  {
   "cell_type": "code",
   "execution_count": 10,
   "metadata": {},
   "outputs": [],
   "source": [
    "df = df.dropna(axis=0, thresh=int(0.25*(df.shape[1]-1))) # Drop any row with more than 25% missing values (the -1 is to account for the target column)"
   ]
  },
  {
   "cell_type": "code",
   "execution_count": 11,
   "metadata": {},
   "outputs": [
    {
     "data": {
      "text/plain": [
       "(90, 5)"
      ]
     },
     "execution_count": 11,
     "metadata": {},
     "output_type": "execute_result"
    }
   ],
   "source": [
    "df.shape"
   ]
  },
  {
   "cell_type": "code",
   "execution_count": 12,
   "metadata": {},
   "outputs": [
    {
     "name": "stdout",
     "output_type": "stream",
     "text": [
      "<class 'pandas.core.frame.DataFrame'>\n",
      "Index: 90 entries, 0 to 99\n",
      "Data columns (total 5 columns):\n",
      " #   Column    Non-Null Count  Dtype  \n",
      "---  ------    --------------  -----  \n",
      " 0   feature1  82 non-null     float64\n",
      " 1   feature2  80 non-null     object \n",
      " 2   feature3  81 non-null     float64\n",
      " 3   feature4  82 non-null     float64\n",
      " 4   target    90 non-null     float64\n",
      "dtypes: float64(4), object(1)\n",
      "memory usage: 4.2+ KB\n"
     ]
    }
   ],
   "source": [
    "df.info()"
   ]
  },
  {
   "cell_type": "code",
   "execution_count": 13,
   "metadata": {},
   "outputs": [],
   "source": [
    "for column in df.select_dtypes(include=['int', 'float']):\n",
    "    df[column] = df[column].fillna(df[column].mean())\n",
    "\n",
    "for column in df.select_dtypes(include=['object']):\n",
    "    df = df.fillna(df[column].value_counts().index[0])\n"
   ]
  },
  {
   "cell_type": "code",
   "execution_count": 14,
   "metadata": {},
   "outputs": [
    {
     "data": {
      "text/plain": [
       "(90, 5)"
      ]
     },
     "execution_count": 14,
     "metadata": {},
     "output_type": "execute_result"
    }
   ],
   "source": [
    "df.shape # count the remaining number of rows and columns"
   ]
  },
  {
   "cell_type": "markdown",
   "metadata": {},
   "source": [
    "## Addressing any Misspelled words"
   ]
  },
  {
   "cell_type": "code",
   "execution_count": 15,
   "metadata": {},
   "outputs": [
    {
     "data": {
      "text/plain": [
       "array(['blue', 'green', 'Red', 'red'], dtype=object)"
      ]
     },
     "execution_count": 15,
     "metadata": {},
     "output_type": "execute_result"
    }
   ],
   "source": [
    "df['feature2'].unique()"
   ]
  },
  {
   "cell_type": "code",
   "execution_count": 16,
   "metadata": {},
   "outputs": [],
   "source": [
    "df = df.replace(['Red'], 'red') "
   ]
  },
  {
   "cell_type": "code",
   "execution_count": 17,
   "metadata": {},
   "outputs": [
    {
     "data": {
      "text/html": [
       "<div>\n",
       "<style scoped>\n",
       "    .dataframe tbody tr th:only-of-type {\n",
       "        vertical-align: middle;\n",
       "    }\n",
       "\n",
       "    .dataframe tbody tr th {\n",
       "        vertical-align: top;\n",
       "    }\n",
       "\n",
       "    .dataframe thead th {\n",
       "        text-align: right;\n",
       "    }\n",
       "</style>\n",
       "<table border=\"1\" class=\"dataframe\">\n",
       "  <thead>\n",
       "    <tr style=\"text-align: right;\">\n",
       "      <th></th>\n",
       "      <th>feature1</th>\n",
       "      <th>feature3</th>\n",
       "      <th>feature4</th>\n",
       "      <th>target</th>\n",
       "      <th>feature2_green</th>\n",
       "      <th>feature2_red</th>\n",
       "    </tr>\n",
       "  </thead>\n",
       "  <tbody>\n",
       "    <tr>\n",
       "      <th>0</th>\n",
       "      <td>355.190000</td>\n",
       "      <td>-25.301938</td>\n",
       "      <td>0.000000</td>\n",
       "      <td>-143.065368</td>\n",
       "      <td>0</td>\n",
       "      <td>0</td>\n",
       "    </tr>\n",
       "    <tr>\n",
       "      <th>1</th>\n",
       "      <td>308.120000</td>\n",
       "      <td>-16.278000</td>\n",
       "      <td>8.000000</td>\n",
       "      <td>-4.461594</td>\n",
       "      <td>1</td>\n",
       "      <td>0</td>\n",
       "    </tr>\n",
       "    <tr>\n",
       "      <th>2</th>\n",
       "      <td>500.510000</td>\n",
       "      <td>-25.301938</td>\n",
       "      <td>8.000000</td>\n",
       "      <td>-0.835365</td>\n",
       "      <td>1</td>\n",
       "      <td>0</td>\n",
       "    </tr>\n",
       "    <tr>\n",
       "      <th>3</th>\n",
       "      <td>451.460000</td>\n",
       "      <td>-8.159000</td>\n",
       "      <td>4.304878</td>\n",
       "      <td>-34.189506</td>\n",
       "      <td>1</td>\n",
       "      <td>0</td>\n",
       "    </tr>\n",
       "    <tr>\n",
       "      <th>4</th>\n",
       "      <td>502.450000</td>\n",
       "      <td>18.650000</td>\n",
       "      <td>4.304878</td>\n",
       "      <td>26.118365</td>\n",
       "      <td>1</td>\n",
       "      <td>0</td>\n",
       "    </tr>\n",
       "    <tr>\n",
       "      <th>6</th>\n",
       "      <td>238.030000</td>\n",
       "      <td>-98.232000</td>\n",
       "      <td>5.000000</td>\n",
       "      <td>97.595136</td>\n",
       "      <td>0</td>\n",
       "      <td>0</td>\n",
       "    </tr>\n",
       "    <tr>\n",
       "      <th>7</th>\n",
       "      <td>488.550000</td>\n",
       "      <td>-87.694000</td>\n",
       "      <td>-12.000000</td>\n",
       "      <td>72.342689</td>\n",
       "      <td>0</td>\n",
       "      <td>1</td>\n",
       "    </tr>\n",
       "    <tr>\n",
       "      <th>8</th>\n",
       "      <td>439.830000</td>\n",
       "      <td>-25.301938</td>\n",
       "      <td>-1.000000</td>\n",
       "      <td>123.887711</td>\n",
       "      <td>0</td>\n",
       "      <td>1</td>\n",
       "    </tr>\n",
       "    <tr>\n",
       "      <th>9</th>\n",
       "      <td>591.540000</td>\n",
       "      <td>5.088000</td>\n",
       "      <td>4.304878</td>\n",
       "      <td>-13.667815</td>\n",
       "      <td>1</td>\n",
       "      <td>0</td>\n",
       "    </tr>\n",
       "    <tr>\n",
       "      <th>10</th>\n",
       "      <td>501.811341</td>\n",
       "      <td>-26.537000</td>\n",
       "      <td>1.000000</td>\n",
       "      <td>-130.716327</td>\n",
       "      <td>0</td>\n",
       "      <td>0</td>\n",
       "    </tr>\n",
       "  </tbody>\n",
       "</table>\n",
       "</div>"
      ],
      "text/plain": [
       "      feature1   feature3   feature4      target  feature2_green  feature2_red\n",
       "0   355.190000 -25.301938   0.000000 -143.065368               0             0\n",
       "1   308.120000 -16.278000   8.000000   -4.461594               1             0\n",
       "2   500.510000 -25.301938   8.000000   -0.835365               1             0\n",
       "3   451.460000  -8.159000   4.304878  -34.189506               1             0\n",
       "4   502.450000  18.650000   4.304878   26.118365               1             0\n",
       "6   238.030000 -98.232000   5.000000   97.595136               0             0\n",
       "7   488.550000 -87.694000 -12.000000   72.342689               0             1\n",
       "8   439.830000 -25.301938  -1.000000  123.887711               0             1\n",
       "9   591.540000   5.088000   4.304878  -13.667815               1             0\n",
       "10  501.811341 -26.537000   1.000000 -130.716327               0             0"
      ]
     },
     "execution_count": 17,
     "metadata": {},
     "output_type": "execute_result"
    }
   ],
   "source": [
    "df_dummy = pd.get_dummies(\n",
    "    df, \n",
    "    prefix_sep='_', \n",
    "    dummy_na=False, \n",
    "    drop_first=True, \n",
    "    columns=['feature2'], \n",
    "    dtype='int32'\n",
    ")\n",
    "\n",
    "df_dummy.head(10)"
   ]
  },
  {
   "cell_type": "code",
   "execution_count": 18,
   "metadata": {},
   "outputs": [
    {
     "data": {
      "text/html": [
       "<div>\n",
       "<style scoped>\n",
       "    .dataframe tbody tr th:only-of-type {\n",
       "        vertical-align: middle;\n",
       "    }\n",
       "\n",
       "    .dataframe tbody tr th {\n",
       "        vertical-align: top;\n",
       "    }\n",
       "\n",
       "    .dataframe thead th {\n",
       "        text-align: right;\n",
       "    }\n",
       "</style>\n",
       "<table border=\"1\" class=\"dataframe\">\n",
       "  <thead>\n",
       "    <tr style=\"text-align: right;\">\n",
       "      <th></th>\n",
       "      <th>feature1</th>\n",
       "      <th>feature3</th>\n",
       "      <th>feature4</th>\n",
       "      <th>target</th>\n",
       "      <th>feature2_blue</th>\n",
       "      <th>feature2_green</th>\n",
       "      <th>feature2_red</th>\n",
       "    </tr>\n",
       "  </thead>\n",
       "  <tbody>\n",
       "    <tr>\n",
       "      <th>0</th>\n",
       "      <td>355.190000</td>\n",
       "      <td>-25.301938</td>\n",
       "      <td>0.000000</td>\n",
       "      <td>-143.065368</td>\n",
       "      <td>1</td>\n",
       "      <td>0</td>\n",
       "      <td>0</td>\n",
       "    </tr>\n",
       "    <tr>\n",
       "      <th>1</th>\n",
       "      <td>308.120000</td>\n",
       "      <td>-16.278000</td>\n",
       "      <td>8.000000</td>\n",
       "      <td>-4.461594</td>\n",
       "      <td>0</td>\n",
       "      <td>1</td>\n",
       "      <td>0</td>\n",
       "    </tr>\n",
       "    <tr>\n",
       "      <th>2</th>\n",
       "      <td>500.510000</td>\n",
       "      <td>-25.301938</td>\n",
       "      <td>8.000000</td>\n",
       "      <td>-0.835365</td>\n",
       "      <td>0</td>\n",
       "      <td>1</td>\n",
       "      <td>0</td>\n",
       "    </tr>\n",
       "    <tr>\n",
       "      <th>3</th>\n",
       "      <td>451.460000</td>\n",
       "      <td>-8.159000</td>\n",
       "      <td>4.304878</td>\n",
       "      <td>-34.189506</td>\n",
       "      <td>0</td>\n",
       "      <td>1</td>\n",
       "      <td>0</td>\n",
       "    </tr>\n",
       "    <tr>\n",
       "      <th>4</th>\n",
       "      <td>502.450000</td>\n",
       "      <td>18.650000</td>\n",
       "      <td>4.304878</td>\n",
       "      <td>26.118365</td>\n",
       "      <td>0</td>\n",
       "      <td>1</td>\n",
       "      <td>0</td>\n",
       "    </tr>\n",
       "    <tr>\n",
       "      <th>6</th>\n",
       "      <td>238.030000</td>\n",
       "      <td>-98.232000</td>\n",
       "      <td>5.000000</td>\n",
       "      <td>97.595136</td>\n",
       "      <td>1</td>\n",
       "      <td>0</td>\n",
       "      <td>0</td>\n",
       "    </tr>\n",
       "    <tr>\n",
       "      <th>7</th>\n",
       "      <td>488.550000</td>\n",
       "      <td>-87.694000</td>\n",
       "      <td>-12.000000</td>\n",
       "      <td>72.342689</td>\n",
       "      <td>0</td>\n",
       "      <td>0</td>\n",
       "      <td>1</td>\n",
       "    </tr>\n",
       "    <tr>\n",
       "      <th>8</th>\n",
       "      <td>439.830000</td>\n",
       "      <td>-25.301938</td>\n",
       "      <td>-1.000000</td>\n",
       "      <td>123.887711</td>\n",
       "      <td>0</td>\n",
       "      <td>0</td>\n",
       "      <td>1</td>\n",
       "    </tr>\n",
       "    <tr>\n",
       "      <th>9</th>\n",
       "      <td>591.540000</td>\n",
       "      <td>5.088000</td>\n",
       "      <td>4.304878</td>\n",
       "      <td>-13.667815</td>\n",
       "      <td>0</td>\n",
       "      <td>1</td>\n",
       "      <td>0</td>\n",
       "    </tr>\n",
       "    <tr>\n",
       "      <th>10</th>\n",
       "      <td>501.811341</td>\n",
       "      <td>-26.537000</td>\n",
       "      <td>1.000000</td>\n",
       "      <td>-130.716327</td>\n",
       "      <td>1</td>\n",
       "      <td>0</td>\n",
       "      <td>0</td>\n",
       "    </tr>\n",
       "  </tbody>\n",
       "</table>\n",
       "</div>"
      ],
      "text/plain": [
       "      feature1   feature3   feature4      target  feature2_blue  \\\n",
       "0   355.190000 -25.301938   0.000000 -143.065368              1   \n",
       "1   308.120000 -16.278000   8.000000   -4.461594              0   \n",
       "2   500.510000 -25.301938   8.000000   -0.835365              0   \n",
       "3   451.460000  -8.159000   4.304878  -34.189506              0   \n",
       "4   502.450000  18.650000   4.304878   26.118365              0   \n",
       "6   238.030000 -98.232000   5.000000   97.595136              1   \n",
       "7   488.550000 -87.694000 -12.000000   72.342689              0   \n",
       "8   439.830000 -25.301938  -1.000000  123.887711              0   \n",
       "9   591.540000   5.088000   4.304878  -13.667815              0   \n",
       "10  501.811341 -26.537000   1.000000 -130.716327              1   \n",
       "\n",
       "    feature2_green  feature2_red  \n",
       "0                0             0  \n",
       "1                1             0  \n",
       "2                1             0  \n",
       "3                1             0  \n",
       "4                1             0  \n",
       "6                0             0  \n",
       "7                0             1  \n",
       "8                0             1  \n",
       "9                1             0  \n",
       "10               0             0  "
      ]
     },
     "execution_count": 18,
     "metadata": {},
     "output_type": "execute_result"
    }
   ],
   "source": [
    "df_onehot = pd.get_dummies(\n",
    "    df, \n",
    "    prefix_sep='_', \n",
    "    dummy_na=False, \n",
    "    drop_first=False, \n",
    "    columns=['feature2'], \n",
    "    dtype='int32'\n",
    ")\n",
    "\n",
    "df_onehot.head(10)"
   ]
  },
  {
   "cell_type": "code",
   "execution_count": 19,
   "metadata": {},
   "outputs": [],
   "source": [
    "features = df_dummy.drop(columns=['target'])\n",
    "target = df_dummy['target']\n",
    "\n",
    "X_train, X_test, y_train, y_test = train_test_split(features, target, test_size=0.2, random_state=42)"
   ]
  },
  {
   "cell_type": "code",
   "execution_count": 20,
   "metadata": {},
   "outputs": [
    {
     "name": "stdout",
     "output_type": "stream",
     "text": [
      "0.8113862100168268\n",
      "0.7231514687374483\n"
     ]
    }
   ],
   "source": [
    "model = LinearRegression()\n",
    "model.fit(X_train, y_train)\n",
    "\n",
    "print(model.score(X_train, y_train))\n",
    "print(model.score(X_test, y_test))\n"
   ]
  }
 ],
 "metadata": {
  "kernelspec": {
   "display_name": "dm",
   "language": "python",
   "name": "python3"
  },
  "language_info": {
   "codemirror_mode": {
    "name": "ipython",
    "version": 3
   },
   "file_extension": ".py",
   "mimetype": "text/x-python",
   "name": "python",
   "nbconvert_exporter": "python",
   "pygments_lexer": "ipython3",
   "version": "3.11.5"
  },
  "orig_nbformat": 4
 },
 "nbformat": 4,
 "nbformat_minor": 2
}
